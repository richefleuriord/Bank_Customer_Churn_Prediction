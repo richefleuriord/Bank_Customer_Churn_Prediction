{
 "cells": [
  {
   "cell_type": "markdown",
   "id": "10ac9545-5e3d-4a9e-b733-10e85eff09e9",
   "metadata": {},
   "source": [
    "  # **AKADEMI EDUCATION**\n",
    "# **Première cohorte (2025): Science des données et intelligence artificielle**\n",
    "#### *Phase 5: PROJET DE SCIENCE DES DONNÉES*"
   ]
  },
  {
   "cell_type": "markdown",
   "id": "3fa7210b-bc5a-4abc-89f2-7760a1ab1021",
   "metadata": {},
   "source": [
    "**Noms des étudiants du groupe: Riché FLEURINORD et Micka LOUIS**   \n",
    "**Rythme d’apprentissage: Autonome**  \n",
    "**Date de soutenance: 27 octobre 2025**  \n",
    "**Noms des instructeurs: Wedter JEROME et Geovany Batista Polo LAGUERRE**  \n",
    "**Lien de l’article de blog (lien du dépôt GitHub): https://github.com/richefleuriord/Bank_Customer_Churn_Prediction.git**"
   ]
  },
  {
   "cell_type": "markdown",
   "id": "75c0f520-268c-4ebc-af85-e45795cffa73",
   "metadata": {},
   "source": [
    "# **Recommandation métier 1**"
   ]
  },
  {
   "cell_type": "code",
   "execution_count": null,
   "id": "b6797c85-3aee-4871-8f8d-9827324c89ec",
   "metadata": {},
   "outputs": [],
   "source": []
  },
  {
   "cell_type": "markdown",
   "id": "8398bb8b-0c22-42fb-9017-956c2a01c7b3",
   "metadata": {},
   "source": [
    "# **Recommandation métier 2**"
   ]
  },
  {
   "cell_type": "code",
   "execution_count": null,
   "id": "f2ee4d7d-f854-4368-9d48-cd458fffe981",
   "metadata": {},
   "outputs": [],
   "source": []
  },
  {
   "cell_type": "markdown",
   "id": "5d163f37-dca2-4b51-a2cb-94118f55a8ce",
   "metadata": {},
   "source": [
    "# **Recommandation métier 3**"
   ]
  },
  {
   "cell_type": "code",
   "execution_count": null,
   "id": "f3d3d0ae-a00b-45b3-a9ce-3fb9236088b4",
   "metadata": {},
   "outputs": [],
   "source": []
  },
  {
   "cell_type": "markdown",
   "id": "8e8cdb8d-daf7-4034-bbdc-c1c97e1d7432",
   "metadata": {},
   "source": [
    "# **Conclusion**"
   ]
  },
  {
   "cell_type": "code",
   "execution_count": null,
   "id": "4bff7d69-b122-433b-8435-c5639559f53f",
   "metadata": {},
   "outputs": [],
   "source": []
  },
  {
   "cell_type": "markdown",
   "id": "b325b007-34da-4820-835f-2d4c784d8dda",
   "metadata": {},
   "source": [
    "# **Étapes suivantes**"
   ]
  },
  {
   "cell_type": "code",
   "execution_count": null,
   "id": "898a0ab9-59e5-43b7-96c7-fb1ff8779b7f",
   "metadata": {},
   "outputs": [],
   "source": []
  }
 ],
 "metadata": {
  "kernelspec": {
   "display_name": "Python (learn-env)",
   "language": "python",
   "name": "learn-env"
  },
  "language_info": {
   "codemirror_mode": {
    "name": "ipython",
    "version": 3
   },
   "file_extension": ".py",
   "mimetype": "text/x-python",
   "name": "python",
   "nbconvert_exporter": "python",
   "pygments_lexer": "ipython3",
   "version": "3.8.5"
  }
 },
 "nbformat": 4,
 "nbformat_minor": 5
}
