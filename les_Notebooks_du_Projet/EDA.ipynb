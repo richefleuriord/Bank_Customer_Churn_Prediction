{
 "cells": [
  {
   "cell_type": "code",
   "execution_count": null,
   "id": "3eb5ce8b-013e-4849-adb7-d33c610bb437",
   "metadata": {},
   "outputs": [],
   "source": []
  }
 ],
 "metadata": {
  "kernelspec": {
   "display_name": "",
   "name": ""
  },
  "language_info": {
   "name": ""
  }
 },
 "nbformat": 4,
 "nbformat_minor": 5
}
