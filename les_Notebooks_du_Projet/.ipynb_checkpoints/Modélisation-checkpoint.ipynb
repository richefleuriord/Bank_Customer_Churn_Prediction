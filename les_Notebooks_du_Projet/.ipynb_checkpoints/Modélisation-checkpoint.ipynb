{
 "cells": [
  {
   "cell_type": "markdown",
   "id": "5af08474-cf74-4366-b226-30f1bd7390e9",
   "metadata": {},
   "source": [
    "  # **AKADEMI EDUCATION**\n",
    "# **Première cohorte (2025): Science des données et intelligence artificielle**\n",
    "#### *Phase 5: PROJET DE SCIENCE DES DONNÉES*"
   ]
  },
  {
   "cell_type": "markdown",
   "id": "0b5bb9b8-1c73-4c75-a509-402ea7127062",
   "metadata": {},
   "source": [
    "**Noms des étudiants du groupe: Riché FLEURINORD et Micka LOUIS**   \n",
    "**Rythme d’apprentissage: Autonome**  \n",
    "**Date de soutenance: 27 octobre 2025**  \n",
    "**Noms des instructeurs: Wedter JEROME et Geovany Batista Polo LAGUERRE**  \n",
    "**Lien de l’article de blog (lien du dépôt GitHub): https://github.com/richefleuriord/Bank_Customer_Churn_Prediction.git**"
   ]
  },
  {
   "cell_type": "markdown",
   "id": "a7bcaf9a-150c-4e87-9728-9e964f97460f",
   "metadata": {},
   "source": [
    "# *4-Modélisation*"
   ]
  },
  {
   "cell_type": "markdown",
   "id": "004441f5-4726-4acc-afa1-3de96b05449e",
   "metadata": {},
   "source": [
    "## Introduction et Objectifs de la Modélisation\n",
    "\n",
    "### Objectif général\n",
    "L’objectif principal de cette section est de **construire, évaluer et comparer plusieurs modèles de Machine Learning** afin de prédire la probabilité qu’un client quitte la banque (*churn*).  \n",
    "Après avoir soigneusement préparé les données dans la section précédente, cette phase vise à **exploiter les variables sélectionnées et transformées** pour générer un modèle fiable, interprétable et performant.\n",
    "\n",
    "### Objectifs spécifiques\n",
    "- Développer une approche systématique de modélisation à l’aide de **pipelines** pour automatiser les étapes de prétraitement et d’apprentissage.  \n",
    "- Utiliser **GridSearchCV** afin d’optimiser les hyperparamètres de chaque algorithme.  \n",
    "- Évaluer les performances à l’aide d’indicateurs pertinents tels que **Accuracy**, **ROC-AUC**, **Rapport de classification** et **Matrice de confusion**.  \n",
    "- Comparer différents modèles (régression logistique, forêts aléatoires, XGBoost et réseau de neurones) pour identifier celui qui offre le meilleur compromis entre performance et complexité.\n",
    "\n",
    "### Méthodologie\n",
    "1. **Chargement des données préparées** : utilisation des jeux de données `train`, `validation` et `test` créés à l’étape précédente.  \n",
    "2. **Construction de pipelines** : intégration des transformations (scaling, modèle, etc.) dans un processus automatisé.  \n",
    "3. **Recherche d’hyperparamètres optimaux** via `GridSearchCV` avec validation croisée.  \n",
    "4. **Évaluation sur le jeu de validation** pour comparer les performances entre modèles.  \n",
    "5. **Test final** du meilleur modèle sélectionné sur le jeu de test indépendant.  \n",
    "6. **Sauvegarde du modèle final** pour une utilisation ultérieure dans la phase de déploiement.\n",
    "\n",
    "### Modèles étudiés\n",
    "- **Régression Logistique**: modèle linéaire de base pour l’interprétation et la compréhension des facteurs clés.  \n",
    "- **Random Forest**: méthode d’ensemble basée sur plusieurs arbres de décision.  \n",
    "- **XGBoost**: algorithme de boosting puissant, efficace pour la classification déséquilibrée.  \n",
    "- **Réseau de Neurones (MLP)**: approche non linéaire capable de capturer des relations complexes entre les variables.\n",
    "\n",
    "---\n",
    "\n",
    "> **En résumé:**  \n",
    "> Cette section vise à déterminer **le modèle le plus performant et le plus robuste** pour la prédiction du *churn*, en combinant rigueur méthodologique, optimisation des paramètres et analyse critique des résultats.\n"
   ]
  },
  {
   "cell_type": "code",
   "execution_count": 1,
   "id": "782d1161-0424-4816-9161-4ecc1a51413d",
   "metadata": {},
   "outputs": [
    {
     "name": "stdout",
     "output_type": "stream",
     "text": [
      "Données chargées avec succès !\n",
      "\n",
      " Entraînement du modèle : LogisticRegression\n",
      "Fitting 5 folds for each of 8 candidates, totalling 40 fits\n"
     ]
    },
    {
     "name": "stderr",
     "output_type": "stream",
     "text": [
      "[Parallel(n_jobs=-1)]: Using backend LokyBackend with 4 concurrent workers.\n",
      "[Parallel(n_jobs=-1)]: Done  40 out of  40 | elapsed:    5.9s finished\n",
      "[Parallel(n_jobs=-1)]: Using backend LokyBackend with 4 concurrent workers.\n"
     ]
    },
    {
     "name": "stdout",
     "output_type": "stream",
     "text": [
      "Meilleurs paramètres LogisticRegression : {'model__C': 0.1, 'model__penalty': 'l2', 'model__solver': 'liblinear'}\n",
      "Score ROC-AUC (train) : 0.9095\n",
      "\n",
      " Entraînement du modèle : RandomForest\n",
      "Fitting 5 folds for each of 24 candidates, totalling 120 fits\n"
     ]
    },
    {
     "name": "stderr",
     "output_type": "stream",
     "text": [
      "[Parallel(n_jobs=-1)]: Done  42 tasks      | elapsed:   21.5s\n",
      "[Parallel(n_jobs=-1)]: Done 120 out of 120 | elapsed:  1.3min finished\n"
     ]
    },
    {
     "name": "stdout",
     "output_type": "stream",
     "text": [
      "Meilleurs paramètres RandomForest : {'model__max_depth': 20, 'model__min_samples_leaf': 1, 'model__min_samples_split': 2, 'model__n_estimators': 200}\n",
      "Score ROC-AUC (train) : 0.9563\n",
      "\n",
      " Entraînement du modèle : XGBoost\n"
     ]
    },
    {
     "name": "stderr",
     "output_type": "stream",
     "text": [
      "[Parallel(n_jobs=-1)]: Using backend LokyBackend with 4 concurrent workers.\n"
     ]
    },
    {
     "name": "stdout",
     "output_type": "stream",
     "text": [
      "Fitting 5 folds for each of 36 candidates, totalling 180 fits\n"
     ]
    },
    {
     "name": "stderr",
     "output_type": "stream",
     "text": [
      "[Parallel(n_jobs=-1)]: Done  42 tasks      | elapsed:    8.3s\n",
      "[Parallel(n_jobs=-1)]: Done 180 out of 180 | elapsed:   48.7s finished\n",
      "C:\\Users\\HP\\anaconda3\\envs\\learn-env\\lib\\site-packages\\xgboost\\core.py:158: UserWarning: [14:07:29] WARNING: C:\\buildkite-agent\\builds\\buildkite-windows-cpu-autoscaling-group-i-08cbc0333d8d4aae1-1\\xgboost\\xgboost-ci-windows\\src\\learner.cc:740: \n",
      "Parameters: { \"use_label_encoder\" } are not used.\n",
      "\n",
      "  warnings.warn(smsg, UserWarning)\n"
     ]
    },
    {
     "name": "stdout",
     "output_type": "stream",
     "text": [
      "Meilleurs paramètres XGBoost : {'model__learning_rate': 0.1, 'model__max_depth': 7, 'model__n_estimators': 200, 'model__subsample': 0.8}\n",
      "Score ROC-AUC (train) : 0.9590\n",
      "\n",
      " Entraînement du modèle : NeuralNetwork\n",
      "Fitting 5 folds for each of 24 candidates, totalling 120 fits\n"
     ]
    },
    {
     "name": "stderr",
     "output_type": "stream",
     "text": [
      "[Parallel(n_jobs=-1)]: Using backend LokyBackend with 4 concurrent workers.\n",
      "[Parallel(n_jobs=-1)]: Done  42 tasks      | elapsed:  3.8min\n",
      "[Parallel(n_jobs=-1)]: Done 120 out of 120 | elapsed: 11.5min finished\n",
      "C:\\Users\\HP\\anaconda3\\envs\\learn-env\\lib\\site-packages\\sklearn\\neural_network\\_multilayer_perceptron.py:582: ConvergenceWarning: Stochastic Optimizer: Maximum iterations (300) reached and the optimization hasn't converged yet.\n",
      "  warnings.warn(\n"
     ]
    },
    {
     "name": "stdout",
     "output_type": "stream",
     "text": [
      "Meilleurs paramètres NeuralNetwork : {'model__activation': 'relu', 'model__alpha': 0.0001, 'model__hidden_layer_sizes': (50,), 'model__learning_rate_init': 0.001}\n",
      "Score ROC-AUC (train) : 0.9371\n",
      "\n",
      " Résumé des performances sur le jeu de validation :\n",
      "                Model                                         BestParams  \\\n",
      "0  LogisticRegression  {'model__C': 0.1, 'model__penalty': 'l2', 'mod...   \n",
      "1        RandomForest  {'model__max_depth': 20, 'model__min_samples_l...   \n",
      "2             XGBoost  {'model__learning_rate': 0.1, 'model__max_dept...   \n",
      "3       NeuralNetwork  {'model__activation': 'relu', 'model__alpha': ...   \n",
      "\n",
      "   Val Accuracy  Val ROC-AUC  \n",
      "0      0.782000     0.725162  \n",
      "1      0.844667     0.848006  \n",
      "2      0.851333     0.856335  \n",
      "3      0.810667     0.806448  \n",
      "\n",
      " Meilleur modèle sélectionné : XGBoost\n",
      "\n",
      " Évaluation finale sur le jeu de test :\n",
      "              precision    recall  f1-score   support\n",
      "\n",
      "           0       0.89      0.94      0.91      1195\n",
      "           1       0.70      0.55      0.62       305\n",
      "\n",
      "    accuracy                           0.86      1500\n",
      "   macro avg       0.80      0.75      0.77      1500\n",
      "weighted avg       0.85      0.86      0.85      1500\n",
      "\n",
      "Accuracy : 0.8606666666666667\n",
      "ROC-AUC  : 0.8646683585979833\n",
      "Confusion Matrix :\n",
      " [[1122   73]\n",
      " [ 136  169]]\n",
      "\n",
      " Modèle sauvegardé : Best_Model_XGBoost.pkl\n"
     ]
    }
   ],
   "source": [
    "# ============================================================\n",
    "# IMPORT DES LIBRAIRIES\n",
    "# ============================================================\n",
    "\n",
    "import pandas as pd\n",
    "import numpy as np\n",
    "from sklearn.model_selection import GridSearchCV\n",
    "from sklearn.pipeline import Pipeline\n",
    "from sklearn.preprocessing import StandardScaler\n",
    "from sklearn.linear_model import LogisticRegression\n",
    "from sklearn.ensemble import RandomForestClassifier\n",
    "from sklearn.neural_network import MLPClassifier\n",
    "from xgboost import XGBClassifier\n",
    "from sklearn.metrics import classification_report, confusion_matrix, accuracy_score, roc_auc_score\n",
    "import joblib\n",
    "import os\n",
    "\n",
    "# Création du dossier \"Models\" \n",
    "os.makedirs(\"Models\", exist_ok=True)\n",
    "\n",
    "# ============================================================\n",
    "# CHARGEMENT DES DONNÉES PRÉPARÉES\n",
    "# ============================================================\n",
    "\n",
    "X_train = pd.read_csv(\"../Data/X_train_prepared.csv\")\n",
    "y_train = pd.read_csv(\"../Data/y_train_prepared.csv\").values.ravel()\n",
    "\n",
    "X_val = pd.read_csv(\"../Data/X_val_prepared.csv\")\n",
    "y_val = pd.read_csv(\"../Data/y_val_prepared.csv\").values.ravel()\n",
    "\n",
    "X_test = pd.read_csv(\"../Data/X_test_prepared.csv\")\n",
    "y_test = pd.read_csv(\"../Data/y_test_prepared.csv\").values.ravel()\n",
    "\n",
    "print(\"Données chargées avec succès !\")\n",
    "\n",
    "# ============================================================\n",
    "# DÉFINITION DES MODÈLES ET PIPELINES\n",
    "# ============================================================\n",
    "\n",
    "pipelines = {\n",
    "    \"LogisticRegression\": Pipeline([\n",
    "        (\"scaler\", StandardScaler()),\n",
    "        (\"model\", LogisticRegression(max_iter=1000, random_state=42))\n",
    "    ]),\n",
    "    \"RandomForest\": Pipeline([\n",
    "        (\"model\", RandomForestClassifier(random_state=42))\n",
    "    ]),\n",
    "    \"XGBoost\": Pipeline([\n",
    "        (\"model\", XGBClassifier(use_label_encoder=False, eval_metric='logloss', random_state=42))\n",
    "    ]),\n",
    "    \"NeuralNetwork\": Pipeline([\n",
    "        (\"scaler\", StandardScaler()),\n",
    "        (\"model\", MLPClassifier(max_iter=300, random_state=42))\n",
    "    ])\n",
    "}\n",
    "\n",
    "# ============================================================\n",
    "# DÉFINITION DES GRILLES DE PARAMÈTRES POUR GRIDSEARCHCV\n",
    "# ============================================================\n",
    "\n",
    "param_grids = {\n",
    "    \"LogisticRegression\": {\n",
    "        \"model__C\": [0.01, 0.1, 1, 10],\n",
    "        \"model__penalty\": [\"l2\"],\n",
    "        \"model__solver\": [\"lbfgs\", \"liblinear\"]\n",
    "    },\n",
    "    \"RandomForest\": {\n",
    "        \"model__n_estimators\": [100, 200],\n",
    "        \"model__max_depth\": [5, 10, 20],\n",
    "        \"model__min_samples_split\": [2, 5],\n",
    "        \"model__min_samples_leaf\": [1, 2]\n",
    "    },\n",
    "    \"XGBoost\": {\n",
    "        \"model__n_estimators\": [100, 200],\n",
    "        \"model__max_depth\": [3, 5, 7],\n",
    "        \"model__learning_rate\": [0.01, 0.1, 0.2],\n",
    "        \"model__subsample\": [0.8, 1.0]\n",
    "    },\n",
    "    \"NeuralNetwork\": {\n",
    "        \"model__hidden_layer_sizes\": [(50,), (100,), (100, 50)],\n",
    "        \"model__activation\": [\"relu\", \"tanh\"],\n",
    "        \"model__alpha\": [0.0001, 0.001],\n",
    "        \"model__learning_rate_init\": [0.001, 0.01]\n",
    "    }\n",
    "}\n",
    "\n",
    "# ============================================================\n",
    "# GRIDSEARCHCV SUR CHAQUE MODÈLE\n",
    "# ============================================================\n",
    "\n",
    "best_models = {}\n",
    "results = []\n",
    "\n",
    "for name, pipeline in pipelines.items():\n",
    "    print(f\"\\n Entraînement du modèle : {name}\")\n",
    "    grid = GridSearchCV(\n",
    "        estimator=pipeline,\n",
    "        param_grid=param_grids[name],\n",
    "        scoring='roc_auc',\n",
    "        cv=5,\n",
    "        n_jobs=-1,\n",
    "        verbose=1\n",
    "    )\n",
    "    grid.fit(X_train, y_train)\n",
    "\n",
    "    best_model = grid.best_estimator_\n",
    "    best_models[name] = best_model\n",
    "\n",
    "    print(f\"Meilleurs paramètres {name} :\", grid.best_params_)\n",
    "    print(f\"Score ROC-AUC (train) : {grid.best_score_:.4f}\")\n",
    "\n",
    "    # Évaluation sur le jeu de validation\n",
    "    y_val_pred = best_model.predict(X_val)\n",
    "    val_auc = roc_auc_score(y_val, best_model.predict_proba(X_val)[:, 1])\n",
    "    val_acc = accuracy_score(y_val, y_val_pred)\n",
    "\n",
    "    results.append({\n",
    "        \"Model\": name,\n",
    "        \"BestParams\": grid.best_params_,\n",
    "        \"Val Accuracy\": val_acc,\n",
    "        \"Val ROC-AUC\": val_auc\n",
    "    })\n",
    "\n",
    "# Résumé des résultats\n",
    "results_df = pd.DataFrame(results)\n",
    "print(\"\\n Résumé des performances sur le jeu de validation :\")\n",
    "print(results_df)\n",
    "\n",
    "# ============================================================\n",
    "# ÉVALUATION DU MEILLEUR MODÈLE SUR LE TEST SET\n",
    "# ============================================================\n",
    "\n",
    "best_model_name = results_df.sort_values(by=\"Val ROC-AUC\", ascending=False).iloc[0][\"Model\"]\n",
    "final_model = best_models[best_model_name]\n",
    "\n",
    "print(f\"\\n Meilleur modèle sélectionné : {best_model_name}\")\n",
    "\n",
    "y_test_pred = final_model.predict(X_test)\n",
    "y_test_proba = final_model.predict_proba(X_test)[:, 1]\n",
    "\n",
    "print(\"\\n Évaluation finale sur le jeu de test :\")\n",
    "print(classification_report(y_test, y_test_pred))\n",
    "print(\"Accuracy :\", accuracy_score(y_test, y_test_pred))\n",
    "print(\"ROC-AUC  :\", roc_auc_score(y_test, y_test_proba))\n",
    "print(\"Confusion Matrix :\\n\", confusion_matrix(y_test, y_test_pred))\n",
    "\n",
    "# ============================================================\n",
    "# SAUVEGARDE DU MEILLEUR MODÈLE\n",
    "# ============================================================\n",
    "\n",
    "joblib.dump(final_model, f\"Models/Best_Model_{best_model_name}.pkl\")\n",
    "print(f\"\\n Modèle sauvegardé : Best_Model_{best_model_name}.pkl\")\n"
   ]
  }
 ],
 "metadata": {
  "kernelspec": {
   "display_name": "Python (learn-env)",
   "language": "python",
   "name": "learn-env"
  },
  "language_info": {
   "codemirror_mode": {
    "name": "ipython",
    "version": 3
   },
   "file_extension": ".py",
   "mimetype": "text/x-python",
   "name": "python",
   "nbconvert_exporter": "python",
   "pygments_lexer": "ipython3",
   "version": "3.8.5"
  }
 },
 "nbformat": 4,
 "nbformat_minor": 5
}
