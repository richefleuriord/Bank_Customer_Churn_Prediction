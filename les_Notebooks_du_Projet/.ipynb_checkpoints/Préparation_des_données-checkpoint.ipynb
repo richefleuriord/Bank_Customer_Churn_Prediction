{
 "cells": [
  {
   "cell_type": "markdown",
   "id": "c1b0d340-fa4a-4001-a858-41e406f3c440",
   "metadata": {},
   "source": [
    "  # **AKADEMI EDUCATION**\n",
    "# **Première cohorte (2025): Science des données et intelligence artificielle**\n",
    "#### *Phase 5: PROJET DE SCIENCE DES DONNÉES*"
   ]
  },
  {
   "cell_type": "markdown",
   "id": "7a7a1f0e-0e5f-4c2b-8c1c-00660bb3d88c",
   "metadata": {},
   "source": [
    "**Noms des étudiants du groupe: Riché FLEURINORD et Micka LOUIS**   \n",
    "**Rythme d’apprentissage: Autonome**  \n",
    "**Date de soutenance: 27 octobre 2025**  \n",
    "**Noms des instructeurs: Wedter JEROME et Geovany Batista Polo LAGUERRE**  \n",
    "**Lien de l’article de blog (lien du dépôt GitHub): https://github.com/richefleuriord/Bank_Customer_Churn_Prediction.git**"
   ]
  },
  {
   "cell_type": "markdown",
   "id": "a9508467-8365-49cd-b508-53c98ce472d6",
   "metadata": {},
   "source": [
    "# *3-Préparation des données*"
   ]
  },
  {
   "cell_type": "code",
   "execution_count": null,
   "id": "7b10c167-2e73-440a-884b-d55cfa7174d7",
   "metadata": {},
   "outputs": [],
   "source": []
  },
  {
   "cell_type": "code",
   "execution_count": null,
   "id": "4f28555a-9050-4680-a0a0-a0d7ff78b237",
   "metadata": {},
   "outputs": [],
   "source": []
  }
 ],
 "metadata": {
  "kernelspec": {
   "display_name": "Python (learn-env)",
   "language": "python",
   "name": "learn-env"
  },
  "language_info": {
   "codemirror_mode": {
    "name": "ipython",
    "version": 3
   },
   "file_extension": ".py",
   "mimetype": "text/x-python",
   "name": "python",
   "nbconvert_exporter": "python",
   "pygments_lexer": "ipython3",
   "version": "3.8.5"
  }
 },
 "nbformat": 4,
 "nbformat_minor": 5
}
